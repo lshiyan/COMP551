{
 "cells": [
  {
   "cell_type": "code",
   "execution_count": 1,
   "metadata": {},
   "outputs": [],
   "source": [
    "import torch\n",
    "import numpy as np\n",
    "import matplotlib.pyplot as plt\n",
    "from ucimlrepo import fetch_ucirepo \n",
    "import pandas as pd"
   ]
  },
  {
   "cell_type": "code",
   "execution_count": 29,
   "metadata": {},
   "outputs": [
    {
     "name": "stdout",
     "output_type": "stream",
     "text": [
      "     class\n",
      "0        0\n",
      "1        0\n",
      "2        0\n",
      "3        0\n",
      "4        0\n",
      "..     ...\n",
      "145      2\n",
      "146      2\n",
      "147      2\n",
      "148      2\n",
      "149      2\n",
      "\n",
      "[150 rows x 1 columns]\n"
     ]
    },
    {
     "name": "stderr",
     "output_type": "stream",
     "text": [
      "C:\\Users\\Shiyan Liu\\AppData\\Local\\Temp\\ipykernel_4600\\3920779809.py:9: SettingWithCopyWarning: \n",
      "A value is trying to be set on a copy of a slice from a DataFrame.\n",
      "Try using .loc[row_indexer,col_indexer] = value instead\n",
      "\n",
      "See the caveats in the documentation: https://pandas.pydata.org/pandas-docs/stable/user_guide/indexing.html#returning-a-view-versus-a-copy\n",
      "  iris_Y['class'] = iris_Y['class'].map(class_mapping)\n"
     ]
    }
   ],
   "source": [
    "#Importing Iris dataset as Pandas dataframe.\n",
    "iris_dataset = fetch_ucirepo(id=53) \n",
    "\n",
    "iris_X = iris_dataset.data.features \n",
    "iris_Y = iris_dataset.data.targets \n",
    "\n",
    "class_mapping = {'Iris-setosa': 0, 'Iris-versicolor': 1, 'Iris-virginica': 2}\n",
    "\n",
    "iris_Y['class'] = iris_Y['class'].map(class_mapping)\n",
    "\n",
    "print(iris_Y)"
   ]
  },
  {
   "cell_type": "code",
   "execution_count": 30,
   "metadata": {},
   "outputs": [
    {
     "ename": "SyntaxError",
     "evalue": "expected '(' (3122132769.py, line 38)",
     "output_type": "error",
     "traceback": [
      "\u001b[1;36m  Cell \u001b[1;32mIn[30], line 38\u001b[1;36m\u001b[0m\n\u001b[1;33m    def create_binning_layers:\u001b[0m\n\u001b[1;37m                             ^\u001b[0m\n\u001b[1;31mSyntaxError\u001b[0m\u001b[1;31m:\u001b[0m expected '('\n"
     ]
    }
   ],
   "source": [
    "class BinningLayer(torch.nn.Module):\n",
    "    def __init__(self, num_cutting_points, tau, feature_min, feature_max):\n",
    "        super().__init__()\n",
    "        \n",
    "        #Constant binner in the first softmax layer. Not trained\n",
    "        self.w=torch.nn.Parameter(torch.Tensor([i+1 for i in range(num_cutting_points+1)]), requires_grad=False)\n",
    "        \n",
    "        #Cut points, randomized between the minimum and maximum values for each feature.c\n",
    "        cut_points=(feature_min + (feature_max - feature_min) * torch.rand(n)).numpy()\n",
    "        self.b = nn.Parameter(torch.Tensor([0]+[-cut_points[i] for i in range(cut_points)]))\n",
    "        for i in range(1, self.b):\n",
    "            self.b[i]+=self.b[i-1]\n",
    "\n",
    "        self.tau=tau #Temperature parameter for the first softmax layer.\n",
    "        \n",
    "    def forward(self, x):\n",
    "        x=torch.add(torch.multiply(self.w, x), b)\n",
    "        x=torch.nn.Softmax(torch.div(x, self.tau))\n",
    "        return x\n",
    "    \n",
    "class DNDT(torch.nn.Module):\n",
    "    def __init__(self, X_frame, Y_frame, num_cutting_points=1, tau=0.01):\n",
    "        super().__init__()\n",
    "        self.X=X_frame #Features dataframe in pandas.\n",
    "        self.Y=Y_frame #Targets dataframe in pandas.\n",
    "        self.num_cutting_points=num_cutting_points #Number of cutting points for each feature.\n",
    "        self.tau=tau\n",
    "        \n",
    "        self.range_matrix=self.create_range_matrix() #Dx2 matrix, where each length 2 matrix is the min and\n",
    "            #max of each feature in your dataset.\n",
    "        self.binning_layers=self.create_binning_layers() #D matrix, where the i-entry is a NN model for\n",
    "            #soft binning the i-th feature.\n",
    "        \n",
    "        self.num_features=self.X.shape[1] #D\n",
    "        self.num_classes=max(self.Y) #C\n",
    "        self.linear_layer=torch.nn.Linear((num_cutting_points+1)**(self.num_features), self.numClasses) #Linear \n",
    "            #classifier layer.\n",
    "        \n",
    "    #Creates binning layers list.\n",
    "    def create_binning_layers:\n",
    "        res=[]*self.X.shape[1]\n",
    "        for i in range(len(res)):\n",
    "            res[i]=BinningLayer(num_cutting_points, self.tau, self.range_matrix[i][0], self.range_matrix[i][1])\n",
    "        return res\n",
    "    \n",
    "    #Creates range matrix list.\n",
    "    def create_range_matrix(self):\n",
    "        res=[[0,0] for i in range(self.X.shape[1])]\n",
    "        columns=self.X.columns\n",
    "        i=0\n",
    "        for column in columns:\n",
    "            res[i][0]=min(self.X[column])\n",
    "            res[i][1]=max(self.X[column])\n",
    "            i+=1\n",
    "        return res\n",
    "            \n",
    "    def kronecker_prod(self, x):\n",
    "        result=x[0]\n",
    "        for i in range(1, len(x)):\n",
    "            result=torch.kron(result, x[i])\n",
    "        return result\n",
    "    \n",
    "    def forward(self, x):\n",
    "        x=torch.stack([self.binning_layers[i](x[i]) for i in range(self.num_features)])\n",
    "        x=self.kronecker_prod(x)\n",
    "        x=self.linear_layer(x, bias=True)\n",
    "        x=torch.nn.Softmax(x)\n",
    "        return x\n",
    "        \n",
    "        "
   ]
  },
  {
   "cell_type": "code",
   "execution_count": 27,
   "metadata": {},
   "outputs": [
    {
     "name": "stdout",
     "output_type": "stream",
     "text": [
      "[[4.3, 7.9], [2.0, 4.4], [1.0, 6.9], [0.1, 2.5]]\n"
     ]
    }
   ],
   "source": [
    "deep_decision_tree=DNDT(iris_X, iris_Y, 1)\n"
   ]
  }
 ],
 "metadata": {
  "kernelspec": {
   "display_name": "Python 3",
   "language": "python",
   "name": "python3"
  },
  "language_info": {
   "codemirror_mode": {
    "name": "ipython",
    "version": 3
   },
   "file_extension": ".py",
   "mimetype": "text/x-python",
   "name": "python",
   "nbconvert_exporter": "python",
   "pygments_lexer": "ipython3",
   "version": "3.11.5"
  }
 },
 "nbformat": 4,
 "nbformat_minor": 2
}
