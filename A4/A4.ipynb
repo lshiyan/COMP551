{
 "cells": [
  {
   "cell_type": "code",
   "execution_count": 7,
   "metadata": {},
   "outputs": [],
   "source": [
    "import torch\n",
    "import numpy as np\n",
    "import matplotlib.pyplot as plt\n",
    "from ucimlrepo import fetch_ucirepo \n",
    "import pandas as pd\n",
    "from sklearn.model_selection import train_test_split\n",
    "from torch.utils.data import DataLoader, TensorDataset"
   ]
  },
  {
   "cell_type": "code",
   "execution_count": 2,
   "metadata": {},
   "outputs": [
    {
     "name": "stderr",
     "output_type": "stream",
     "text": [
      "C:\\Users\\Shiyan Liu\\AppData\\Local\\Temp\\ipykernel_2140\\1879270822.py:9: SettingWithCopyWarning: \n",
      "A value is trying to be set on a copy of a slice from a DataFrame.\n",
      "Try using .loc[row_indexer,col_indexer] = value instead\n",
      "\n",
      "See the caveats in the documentation: https://pandas.pydata.org/pandas-docs/stable/user_guide/indexing.html#returning-a-view-versus-a-copy\n",
      "  iris_Y['class'] = iris_Y['class'].map(class_mapping)\n"
     ]
    }
   ],
   "source": [
    "#Importing Iris dataset as Pandas dataframe.\n",
    "iris_dataset = fetch_ucirepo(id=53) \n",
    "\n",
    "iris_X = iris_dataset.data.features \n",
    "iris_Y = iris_dataset.data.targets \n",
    "\n",
    "class_mapping = {'Iris-setosa': 0, 'Iris-versicolor': 1, 'Iris-virginica': 2}\n",
    "\n",
    "iris_Y['class'] = iris_Y['class'].map(class_mapping)"
   ]
  },
  {
   "cell_type": "code",
   "execution_count": 48,
   "metadata": {},
   "outputs": [],
   "source": [
    "class BinningLayer(torch.nn.Module):\n",
    "    def __init__(self, num_cutting_points, tau, feature_min, feature_max):\n",
    "        super().__init__()\n",
    "        \n",
    "        #Constant binner in the first softmax layer. Not trained\n",
    "        self.w=torch.Tensor([i+1 for i in range(num_cutting_points+1)])\n",
    "        \n",
    "        #Cut points, randomized between the minimum and maximum values for each feature. Length n.\n",
    "        cut_points=(feature_min + (feature_max - feature_min) * torch.rand(num_cutting_points)).numpy()\n",
    "        bias_list=torch.Tensor([0]+[-cut_points[i] for i in range(len(cut_points))])\n",
    "        for i in range(1, len(bias_list)):\n",
    "            bias_list[i]+=bias_list[i-1]\n",
    "        self.b = torch.nn.Parameter(bias_list)\n",
    "\n",
    "        self.tau=tau #Temperature parameter for the first softmax layer.\n",
    "        self.softmax=torch.nn.Softmax() #Classifier softmax layer.\n",
    "        \n",
    "    #Forward propogation.\n",
    "    def forward(self, x):\n",
    "        x=torch.add(torch.multiply(self.w, x), self.b)\n",
    "        x=self.softmax(torch.div(x, self.tau))\n",
    "        return x\n",
    "    \n",
    "class DNDT(torch.nn.Module):\n",
    "    def __init__(self, X_frame, Y_frame, num_cutting_points=1, tau=0.01):\n",
    "        super().__init__()\n",
    "        self.X=X_frame #Features dataframe in pandas.\n",
    "        self.Y=Y_frame #Targets dataframe in pandas.\n",
    "        self.num_cutting_points=num_cutting_points #Number of cutting points for each feature.\n",
    "        self.tau=tau #Temperature parameter for the first softmax layer.\n",
    "        \n",
    "        self.range_matrix=self.create_range_matrix() #Dx2 matrix, where each length 2 matrix is the min and\n",
    "            #max of each feature in your dataset.\n",
    "        self.binning_layers=self.create_binning_layers() #D matrix, where the i-entry is a NN model for\n",
    "            #soft binning the i-th feature.\n",
    "        \n",
    "        self.num_features=self.X.shape[1] #D\n",
    "        self.num_classes=max(self.Y[self.Y.columns[0]])+1 #C\n",
    "        \n",
    "        self.linear_layer=torch.nn.Linear((self.num_cutting_points+1)**(self.num_features), self.num_classes) #Linear \n",
    "            #classifier layer.\n",
    "\n",
    "        self.softmax=torch.nn.Softmax() #Classifier softmax layer.\n",
    "        \n",
    "    #Creates binning layers list.\n",
    "    def create_binning_layers(self):\n",
    "        res=[None]*self.X.shape[1]\n",
    "        for i in range(len(res)):\n",
    "            res[i]=BinningLayer(self.num_cutting_points, self.tau, self.range_matrix[i][0], self.range_matrix[i][1])\n",
    "        return res\n",
    "    \n",
    "    #Creates range matrix list.\n",
    "    def create_range_matrix(self):\n",
    "        res=[[0,0] for i in range(self.X.shape[1])]\n",
    "        columns=self.X.columns\n",
    "        i=0\n",
    "        for column in columns:\n",
    "            res[i][0]=min(self.X[column])\n",
    "            res[i][1]=max(self.X[column])\n",
    "            i+=1\n",
    "        return res\n",
    "            \n",
    "    #Kronecker products all of the softly-binned layers.\n",
    "    def kronecker_prod(self, x):\n",
    "        result=x[0]\n",
    "        for i in range(1, len(x)):\n",
    "            result=torch.kron(result, x[i])\n",
    "        return result\n",
    "    \n",
    "    #Forward propogation.\n",
    "    def forward(self, x):\n",
    "        x = torch.stack([self.binning_layers[i](x[:, i]) for i in range(self.num_features)], dim=1)\n",
    "        x=self.kronecker_prod(x)\n",
    "        x=self.linear_layer(x)\n",
    "        x=self.softmax(x)\n",
    "        return x\n",
    "    "
   ]
  },
  {
   "cell_type": "code",
   "execution_count": 56,
   "metadata": {},
   "outputs": [
    {
     "name": "stderr",
     "output_type": "stream",
     "text": [
      "C:\\Users\\Shiyan Liu\\AppData\\Local\\Packages\\PythonSoftwareFoundation.Python.3.11_qbz5n2kfra8p0\\LocalCache\\local-packages\\Python311\\site-packages\\torch\\nn\\modules\\module.py:1518: UserWarning: Implicit dimension choice for softmax has been deprecated. Change the call to include dim=X as an argument.\n",
      "  return self._call_impl(*args, **kwargs)\n"
     ]
    },
    {
     "ename": "RuntimeError",
     "evalue": "size mismatch (got input: [3], target: [1])",
     "output_type": "error",
     "traceback": [
      "\u001b[1;31m---------------------------------------------------------------------------\u001b[0m",
      "\u001b[1;31mRuntimeError\u001b[0m                              Traceback (most recent call last)",
      "\u001b[1;32mc:\\Users\\Shiyan Liu\\GitHub\\COMP551\\A4\\A4.ipynb Cell 4\u001b[0m line \u001b[0;36m2\n\u001b[0;32m     <a href='vscode-notebook-cell:/c%3A/Users/Shiyan%20Liu/GitHub/COMP551/A4/A4.ipynb#W3sZmlsZQ%3D%3D?line=23'>24</a>\u001b[0m optimizer\u001b[39m.\u001b[39mzero_grad()\n\u001b[0;32m     <a href='vscode-notebook-cell:/c%3A/Users/Shiyan%20Liu/GitHub/COMP551/A4/A4.ipynb#W3sZmlsZQ%3D%3D?line=24'>25</a>\u001b[0m outputs \u001b[39m=\u001b[39m deep_decision_tree(batch[\u001b[39m0\u001b[39m])\n\u001b[1;32m---> <a href='vscode-notebook-cell:/c%3A/Users/Shiyan%20Liu/GitHub/COMP551/A4/A4.ipynb#W3sZmlsZQ%3D%3D?line=25'>26</a>\u001b[0m loss \u001b[39m=\u001b[39m loss_function(outputs, batch[\u001b[39m1\u001b[39;49m])\n\u001b[0;32m     <a href='vscode-notebook-cell:/c%3A/Users/Shiyan%20Liu/GitHub/COMP551/A4/A4.ipynb#W3sZmlsZQ%3D%3D?line=26'>27</a>\u001b[0m loss\u001b[39m.\u001b[39mbackward()\n\u001b[0;32m     <a href='vscode-notebook-cell:/c%3A/Users/Shiyan%20Liu/GitHub/COMP551/A4/A4.ipynb#W3sZmlsZQ%3D%3D?line=27'>28</a>\u001b[0m optimizer\u001b[39m.\u001b[39mstep()\n",
      "File \u001b[1;32m~\\AppData\\Local\\Packages\\PythonSoftwareFoundation.Python.3.11_qbz5n2kfra8p0\\LocalCache\\local-packages\\Python311\\site-packages\\torch\\nn\\modules\\module.py:1518\u001b[0m, in \u001b[0;36mModule._wrapped_call_impl\u001b[1;34m(self, *args, **kwargs)\u001b[0m\n\u001b[0;32m   1516\u001b[0m     \u001b[39mreturn\u001b[39;00m \u001b[39mself\u001b[39m\u001b[39m.\u001b[39m_compiled_call_impl(\u001b[39m*\u001b[39margs, \u001b[39m*\u001b[39m\u001b[39m*\u001b[39mkwargs)  \u001b[39m# type: ignore[misc]\u001b[39;00m\n\u001b[0;32m   1517\u001b[0m \u001b[39melse\u001b[39;00m:\n\u001b[1;32m-> 1518\u001b[0m     \u001b[39mreturn\u001b[39;00m \u001b[39mself\u001b[39;49m\u001b[39m.\u001b[39;49m_call_impl(\u001b[39m*\u001b[39;49margs, \u001b[39m*\u001b[39;49m\u001b[39m*\u001b[39;49mkwargs)\n",
      "File \u001b[1;32m~\\AppData\\Local\\Packages\\PythonSoftwareFoundation.Python.3.11_qbz5n2kfra8p0\\LocalCache\\local-packages\\Python311\\site-packages\\torch\\nn\\modules\\module.py:1527\u001b[0m, in \u001b[0;36mModule._call_impl\u001b[1;34m(self, *args, **kwargs)\u001b[0m\n\u001b[0;32m   1522\u001b[0m \u001b[39m# If we don't have any hooks, we want to skip the rest of the logic in\u001b[39;00m\n\u001b[0;32m   1523\u001b[0m \u001b[39m# this function, and just call forward.\u001b[39;00m\n\u001b[0;32m   1524\u001b[0m \u001b[39mif\u001b[39;00m \u001b[39mnot\u001b[39;00m (\u001b[39mself\u001b[39m\u001b[39m.\u001b[39m_backward_hooks \u001b[39mor\u001b[39;00m \u001b[39mself\u001b[39m\u001b[39m.\u001b[39m_backward_pre_hooks \u001b[39mor\u001b[39;00m \u001b[39mself\u001b[39m\u001b[39m.\u001b[39m_forward_hooks \u001b[39mor\u001b[39;00m \u001b[39mself\u001b[39m\u001b[39m.\u001b[39m_forward_pre_hooks\n\u001b[0;32m   1525\u001b[0m         \u001b[39mor\u001b[39;00m _global_backward_pre_hooks \u001b[39mor\u001b[39;00m _global_backward_hooks\n\u001b[0;32m   1526\u001b[0m         \u001b[39mor\u001b[39;00m _global_forward_hooks \u001b[39mor\u001b[39;00m _global_forward_pre_hooks):\n\u001b[1;32m-> 1527\u001b[0m     \u001b[39mreturn\u001b[39;00m forward_call(\u001b[39m*\u001b[39;49margs, \u001b[39m*\u001b[39;49m\u001b[39m*\u001b[39;49mkwargs)\n\u001b[0;32m   1529\u001b[0m \u001b[39mtry\u001b[39;00m:\n\u001b[0;32m   1530\u001b[0m     result \u001b[39m=\u001b[39m \u001b[39mNone\u001b[39;00m\n",
      "File \u001b[1;32m~\\AppData\\Local\\Packages\\PythonSoftwareFoundation.Python.3.11_qbz5n2kfra8p0\\LocalCache\\local-packages\\Python311\\site-packages\\torch\\nn\\modules\\loss.py:1179\u001b[0m, in \u001b[0;36mCrossEntropyLoss.forward\u001b[1;34m(self, input, target)\u001b[0m\n\u001b[0;32m   1178\u001b[0m \u001b[39mdef\u001b[39;00m \u001b[39mforward\u001b[39m(\u001b[39mself\u001b[39m, \u001b[39minput\u001b[39m: Tensor, target: Tensor) \u001b[39m-\u001b[39m\u001b[39m>\u001b[39m Tensor:\n\u001b[1;32m-> 1179\u001b[0m     \u001b[39mreturn\u001b[39;00m F\u001b[39m.\u001b[39;49mcross_entropy(\u001b[39minput\u001b[39;49m, target, weight\u001b[39m=\u001b[39;49m\u001b[39mself\u001b[39;49m\u001b[39m.\u001b[39;49mweight,\n\u001b[0;32m   1180\u001b[0m                            ignore_index\u001b[39m=\u001b[39;49m\u001b[39mself\u001b[39;49m\u001b[39m.\u001b[39;49mignore_index, reduction\u001b[39m=\u001b[39;49m\u001b[39mself\u001b[39;49m\u001b[39m.\u001b[39;49mreduction,\n\u001b[0;32m   1181\u001b[0m                            label_smoothing\u001b[39m=\u001b[39;49m\u001b[39mself\u001b[39;49m\u001b[39m.\u001b[39;49mlabel_smoothing)\n",
      "File \u001b[1;32m~\\AppData\\Local\\Packages\\PythonSoftwareFoundation.Python.3.11_qbz5n2kfra8p0\\LocalCache\\local-packages\\Python311\\site-packages\\torch\\nn\\functional.py:3053\u001b[0m, in \u001b[0;36mcross_entropy\u001b[1;34m(input, target, weight, size_average, ignore_index, reduce, reduction, label_smoothing)\u001b[0m\n\u001b[0;32m   3051\u001b[0m \u001b[39mif\u001b[39;00m size_average \u001b[39mis\u001b[39;00m \u001b[39mnot\u001b[39;00m \u001b[39mNone\u001b[39;00m \u001b[39mor\u001b[39;00m reduce \u001b[39mis\u001b[39;00m \u001b[39mnot\u001b[39;00m \u001b[39mNone\u001b[39;00m:\n\u001b[0;32m   3052\u001b[0m     reduction \u001b[39m=\u001b[39m _Reduction\u001b[39m.\u001b[39mlegacy_get_string(size_average, reduce)\n\u001b[1;32m-> 3053\u001b[0m \u001b[39mreturn\u001b[39;00m torch\u001b[39m.\u001b[39;49m_C\u001b[39m.\u001b[39;49m_nn\u001b[39m.\u001b[39;49mcross_entropy_loss(\u001b[39minput\u001b[39;49m, target, weight, _Reduction\u001b[39m.\u001b[39;49mget_enum(reduction), ignore_index, label_smoothing)\n",
      "\u001b[1;31mRuntimeError\u001b[0m: size mismatch (got input: [3], target: [1])"
     ]
    }
   ],
   "source": [
    "deep_decision_tree=DNDT(iris_X, iris_Y, 1)\n",
    "\n",
    "X=iris_X\n",
    "Y=iris_Y\n",
    "\n",
    "X_tensor = torch.tensor(X.values, dtype=torch.float32)\n",
    "Y_tensor = torch.tensor(Y.values, dtype=torch.long).squeeze()\n",
    "\n",
    "X_train, X_val, Y_train, Y_val = train_test_split(X_tensor, Y_tensor, test_size=0.2, random_state=42)\n",
    "\n",
    "train_dataset = TensorDataset(X_train, Y_train)\n",
    "train_loader = DataLoader(train_dataset, batch_size=1, shuffle=True)\n",
    "\n",
    "val_dataset = TensorDataset(X_val, Y_val)\n",
    "val_loader = DataLoader(val_dataset, batch_size=1, shuffle=True)\n",
    "\n",
    "loss_function = torch.nn.CrossEntropyLoss()\n",
    "optimizer = torch.optim.Adam(deep_decision_tree.parameters(), lr=0.001)\n",
    "\n",
    "num_epochs=3\n",
    "\n",
    "for epoch in range(num_epochs):\n",
    "    for batch in train_loader:\n",
    "        optimizer.zero_grad()\n",
    "        outputs = deep_decision_tree(batch[0])\n",
    "        loss = loss_function(outputs, batch[1])\n",
    "        loss.backward()\n",
    "        optimizer.step()"
   ]
  }
 ],
 "metadata": {
  "kernelspec": {
   "display_name": "Python 3",
   "language": "python",
   "name": "python3"
  },
  "language_info": {
   "codemirror_mode": {
    "name": "ipython",
    "version": 3
   },
   "file_extension": ".py",
   "mimetype": "text/x-python",
   "name": "python",
   "nbconvert_exporter": "python",
   "pygments_lexer": "ipython3",
   "version": "3.11.5"
  }
 },
 "nbformat": 4,
 "nbformat_minor": 2
}
