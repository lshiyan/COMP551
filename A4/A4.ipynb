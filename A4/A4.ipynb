{
 "cells": [
  {
   "cell_type": "code",
   "execution_count": 4,
   "metadata": {},
   "outputs": [],
   "source": [
    "import torch\n",
    "import numpy as np\n",
    "import matplotlib.pyplot as plt\n",
    "from ucimlrepo import fetch_ucirepo \n",
    "import pandas as pd"
   ]
  },
  {
   "cell_type": "code",
   "execution_count": 5,
   "metadata": {},
   "outputs": [],
   "source": [
    "#Importing Iris dataset as Pandas dataframe.\n",
    "iris_dataset = fetch_ucirepo(id=53) \n",
    "\n",
    "iris_X = iris_dataset.data.features \n",
    "iris_Y = iris_dataset.data.targets "
   ]
  },
  {
   "cell_type": "code",
   "execution_count": 3,
   "metadata": {},
   "outputs": [
    {
     "ename": "SyntaxError",
     "evalue": "incomplete input (2997856572.py, line 23)",
     "output_type": "error",
     "traceback": [
      "\u001b[1;36m  Cell \u001b[1;32mIn[3], line 23\u001b[1;36m\u001b[0m\n\u001b[1;33m    \u001b[0m\n\u001b[1;37m    ^\u001b[0m\n\u001b[1;31mSyntaxError\u001b[0m\u001b[1;31m:\u001b[0m incomplete input\n"
     ]
    }
   ],
   "source": [
    "class BinningLayer(torch.nn.Module):\n",
    "    def __init__(self, num_cutting_points, tau):\n",
    "        \n",
    "        #Constant binner in the first softmax layer. Not trained\n",
    "        self.w=torch.nn.Parameter(torch.Tensor([i+1 for i in range(num_cutting_points+1)]), requires_grad=False)\n",
    "        self.b = nn.Parameter(torch.Tensor([-i for i in range(num_cutting_points+1)]))\n",
    "        for i in range(1, self.b):\n",
    "            self.b[i]-=self.b[i-1]\n",
    "            \n",
    "        self.tau=tau #Temperature parameter for the first softmax layer.\n",
    "        \n",
    "        self.layer=torch.nn.Linear(1, num_cutting_points+1)\n",
    "        \n",
    "    def forward(self, x):\n",
    "        x=torch.add(torch.multiply(self.w, x), b)\n",
    "        x=torch.nn.Softmax(torch.div(x, self.tau))\n",
    "    \n",
    "class DNDT(torch.nn.Module):\n",
    "    def __init__(self, X_frame, Y_frame, num_cutting_points=1, tau=0.01):\n",
    "        super().__init__()\n",
    "        self.binning_layer=BinningLayer(num_cutting_points, tau) #Soft binning layer.\n",
    "        self.X=X_frame #Features dataframe in pandas.\n",
    "        self.Y=Y_frame #Targets dataframe in pandas.\n",
    "        self.num_cutting_points=num_cutting_points #Number of cutting points for each feature.\n",
    "        \n",
    "    def forward(self, x):\n",
    "        x=torch.nn.Softmax(np.multiply(self.w, x))\n",
    "    \n",
    "    def bin(self, features):\n",
    "        "
   ]
  },
  {
   "cell_type": "code",
   "execution_count": 28,
   "metadata": {},
   "outputs": [
    {
     "name": "stdout",
     "output_type": "stream",
     "text": [
      "[3 6]\n"
     ]
    }
   ],
   "source": [
    "deep_decision_tree=DNDT(iris_X, iris_Y, 1)\n",
    "x=[1,2]\n",
    "y=3\n"
   ]
  }
 ],
 "metadata": {
  "kernelspec": {
   "display_name": "Python 3",
   "language": "python",
   "name": "python3"
  },
  "language_info": {
   "codemirror_mode": {
    "name": "ipython",
    "version": 3
   },
   "file_extension": ".py",
   "mimetype": "text/x-python",
   "name": "python",
   "nbconvert_exporter": "python",
   "pygments_lexer": "ipython3",
   "version": "3.11.5"
  }
 },
 "nbformat": 4,
 "nbformat_minor": 2
}
